{
 "cells": [
  {
   "cell_type": "markdown",
   "id": "c396ea7d-32e9-4b1d-b67b-c205d968cf8c",
   "metadata": {},
   "source": [
    "# Importing Libraries"
   ]
  },
  {
   "cell_type": "code",
   "execution_count": 2,
   "id": "37efe330-97e4-4346-8a05-d7f54b5f6c89",
   "metadata": {},
   "outputs": [],
   "source": [
    "import pandas as pd\n",
    "import numpy as np\n",
    "import matplotlib.pyplot as plt\n",
    "import seaborn as sns"
   ]
  },
  {
   "cell_type": "markdown",
   "id": "e894fbb8-ecf4-4951-af3b-f6da6fc93293",
   "metadata": {},
   "source": [
    "# Importing Data"
   ]
  },
  {
   "cell_type": "code",
   "execution_count": 23,
   "id": "96c65c7b-5eb5-4608-a18d-9c17b65fd97d",
   "metadata": {},
   "outputs": [],
   "source": [
    "df = pd.read_csv(\"D:\\Machine Learning\\Data\\Employee.csv\")"
   ]
  },
  {
   "cell_type": "code",
   "execution_count": 5,
   "id": "1b509e2f-f0de-418f-b2e1-1979b01c55be",
   "metadata": {},
   "outputs": [],
   "source": [
    "df_backup = df.copy()"
   ]
  },
  {
   "cell_type": "markdown",
   "id": "98ca4ddd-54e2-4162-865b-d1712dd3294d",
   "metadata": {},
   "source": [
    "# Data Exploration"
   ]
  },
  {
   "cell_type": "code",
   "execution_count": 6,
   "id": "cad2355e-3960-409c-858f-6cc7ea711903",
   "metadata": {},
   "outputs": [
    {
     "data": {
      "text/html": [
       "<div>\n",
       "<style scoped>\n",
       "    .dataframe tbody tr th:only-of-type {\n",
       "        vertical-align: middle;\n",
       "    }\n",
       "\n",
       "    .dataframe tbody tr th {\n",
       "        vertical-align: top;\n",
       "    }\n",
       "\n",
       "    .dataframe thead th {\n",
       "        text-align: right;\n",
       "    }\n",
       "</style>\n",
       "<table border=\"1\" class=\"dataframe\">\n",
       "  <thead>\n",
       "    <tr style=\"text-align: right;\">\n",
       "      <th></th>\n",
       "      <th>Company</th>\n",
       "      <th>Age</th>\n",
       "      <th>Salary</th>\n",
       "      <th>Place</th>\n",
       "      <th>Country</th>\n",
       "      <th>Gender</th>\n",
       "    </tr>\n",
       "  </thead>\n",
       "  <tbody>\n",
       "    <tr>\n",
       "      <th>0</th>\n",
       "      <td>TCS</td>\n",
       "      <td>20.0</td>\n",
       "      <td>NaN</td>\n",
       "      <td>Chennai</td>\n",
       "      <td>India</td>\n",
       "      <td>0</td>\n",
       "    </tr>\n",
       "    <tr>\n",
       "      <th>1</th>\n",
       "      <td>Infosys</td>\n",
       "      <td>30.0</td>\n",
       "      <td>NaN</td>\n",
       "      <td>Mumbai</td>\n",
       "      <td>India</td>\n",
       "      <td>0</td>\n",
       "    </tr>\n",
       "    <tr>\n",
       "      <th>2</th>\n",
       "      <td>TCS</td>\n",
       "      <td>35.0</td>\n",
       "      <td>2300.0</td>\n",
       "      <td>Calcutta</td>\n",
       "      <td>India</td>\n",
       "      <td>0</td>\n",
       "    </tr>\n",
       "    <tr>\n",
       "      <th>3</th>\n",
       "      <td>Infosys</td>\n",
       "      <td>40.0</td>\n",
       "      <td>3000.0</td>\n",
       "      <td>Delhi</td>\n",
       "      <td>India</td>\n",
       "      <td>0</td>\n",
       "    </tr>\n",
       "    <tr>\n",
       "      <th>4</th>\n",
       "      <td>TCS</td>\n",
       "      <td>23.0</td>\n",
       "      <td>4000.0</td>\n",
       "      <td>Mumbai</td>\n",
       "      <td>India</td>\n",
       "      <td>0</td>\n",
       "    </tr>\n",
       "  </tbody>\n",
       "</table>\n",
       "</div>"
      ],
      "text/plain": [
       "   Company   Age  Salary     Place Country  Gender\n",
       "0      TCS  20.0     NaN   Chennai   India       0\n",
       "1  Infosys  30.0     NaN    Mumbai   India       0\n",
       "2      TCS  35.0  2300.0  Calcutta   India       0\n",
       "3  Infosys  40.0  3000.0     Delhi   India       0\n",
       "4      TCS  23.0  4000.0    Mumbai   India       0"
      ]
     },
     "execution_count": 6,
     "metadata": {},
     "output_type": "execute_result"
    }
   ],
   "source": [
    "df.head()"
   ]
  },
  {
   "cell_type": "code",
   "execution_count": 9,
   "id": "6a84ea01-9104-4fa3-b627-d0b08924200a",
   "metadata": {},
   "outputs": [
    {
     "data": {
      "text/html": [
       "<div>\n",
       "<style scoped>\n",
       "    .dataframe tbody tr th:only-of-type {\n",
       "        vertical-align: middle;\n",
       "    }\n",
       "\n",
       "    .dataframe tbody tr th {\n",
       "        vertical-align: top;\n",
       "    }\n",
       "\n",
       "    .dataframe thead th {\n",
       "        text-align: right;\n",
       "    }\n",
       "</style>\n",
       "<table border=\"1\" class=\"dataframe\">\n",
       "  <thead>\n",
       "    <tr style=\"text-align: right;\">\n",
       "      <th></th>\n",
       "      <th>Company</th>\n",
       "      <th>Age</th>\n",
       "      <th>Salary</th>\n",
       "      <th>Place</th>\n",
       "      <th>Country</th>\n",
       "      <th>Gender</th>\n",
       "    </tr>\n",
       "  </thead>\n",
       "  <tbody>\n",
       "    <tr>\n",
       "      <th>143</th>\n",
       "      <td>TCS</td>\n",
       "      <td>33.0</td>\n",
       "      <td>9024.0</td>\n",
       "      <td>Calcutta</td>\n",
       "      <td>India</td>\n",
       "      <td>1</td>\n",
       "    </tr>\n",
       "    <tr>\n",
       "      <th>144</th>\n",
       "      <td>Infosys</td>\n",
       "      <td>22.0</td>\n",
       "      <td>8787.0</td>\n",
       "      <td>Calcutta</td>\n",
       "      <td>India</td>\n",
       "      <td>1</td>\n",
       "    </tr>\n",
       "    <tr>\n",
       "      <th>145</th>\n",
       "      <td>Infosys</td>\n",
       "      <td>44.0</td>\n",
       "      <td>4034.0</td>\n",
       "      <td>Delhi</td>\n",
       "      <td>India</td>\n",
       "      <td>1</td>\n",
       "    </tr>\n",
       "    <tr>\n",
       "      <th>146</th>\n",
       "      <td>TCS</td>\n",
       "      <td>33.0</td>\n",
       "      <td>5034.0</td>\n",
       "      <td>Mumbai</td>\n",
       "      <td>India</td>\n",
       "      <td>1</td>\n",
       "    </tr>\n",
       "    <tr>\n",
       "      <th>147</th>\n",
       "      <td>Infosys</td>\n",
       "      <td>22.0</td>\n",
       "      <td>8202.0</td>\n",
       "      <td>Cochin</td>\n",
       "      <td>India</td>\n",
       "      <td>0</td>\n",
       "    </tr>\n",
       "  </tbody>\n",
       "</table>\n",
       "</div>"
      ],
      "text/plain": [
       "     Company   Age  Salary     Place Country  Gender\n",
       "143      TCS  33.0  9024.0  Calcutta   India       1\n",
       "144  Infosys  22.0  8787.0  Calcutta   India       1\n",
       "145  Infosys  44.0  4034.0     Delhi   India       1\n",
       "146      TCS  33.0  5034.0    Mumbai   India       1\n",
       "147  Infosys  22.0  8202.0    Cochin   India       0"
      ]
     },
     "execution_count": 9,
     "metadata": {},
     "output_type": "execute_result"
    }
   ],
   "source": [
    "df.tail()"
   ]
  },
  {
   "cell_type": "code",
   "execution_count": 41,
   "id": "35c889c5-a63f-4939-8a18-c836c03ff180",
   "metadata": {},
   "outputs": [
    {
     "name": "stdout",
     "output_type": "stream",
     "text": [
      "<class 'pandas.core.frame.DataFrame'>\n",
      "RangeIndex: 148 entries, 0 to 147\n",
      "Data columns (total 6 columns):\n",
      " #   Column   Non-Null Count  Dtype  \n",
      "---  ------   --------------  -----  \n",
      " 0   Company  140 non-null    object \n",
      " 1   Age      130 non-null    float64\n",
      " 2   Salary   124 non-null    float64\n",
      " 3   Place    134 non-null    object \n",
      " 4   Country  148 non-null    object \n",
      " 5   Gender   148 non-null    int64  \n",
      "dtypes: float64(2), int64(1), object(3)\n",
      "memory usage: 7.1+ KB\n"
     ]
    }
   ],
   "source": [
    "df.info()"
   ]
  },
  {
   "cell_type": "code",
   "execution_count": 16,
   "id": "021e20d8-38d3-4dae-b2f6-9536715132d5",
   "metadata": {
    "scrolled": true
   },
   "outputs": [
    {
     "data": {
      "text/plain": [
       "<bound method DataFrame.duplicated of      Company   Age  Salary     Place Country  Gender\n",
       "0        TCS  20.0     NaN   Chennai   India       0\n",
       "1    Infosys  30.0     NaN    Mumbai   India       0\n",
       "2        TCS  35.0  2300.0  Calcutta   India       0\n",
       "3    Infosys  40.0  3000.0     Delhi   India       0\n",
       "4        TCS  23.0  4000.0    Mumbai   India       0\n",
       "..       ...   ...     ...       ...     ...     ...\n",
       "143      TCS  33.0  9024.0  Calcutta   India       1\n",
       "144  Infosys  22.0  8787.0  Calcutta   India       1\n",
       "145  Infosys  44.0  4034.0     Delhi   India       1\n",
       "146      TCS  33.0  5034.0    Mumbai   India       1\n",
       "147  Infosys  22.0  8202.0    Cochin   India       0\n",
       "\n",
       "[148 rows x 6 columns]>"
      ]
     },
     "execution_count": 16,
     "metadata": {},
     "output_type": "execute_result"
    }
   ],
   "source": [
    "df.duplicated"
   ]
  },
  {
   "cell_type": "markdown",
   "id": "76fed244-b37c-48f3-b893-76e554c4d9d4",
   "metadata": {},
   "source": [
    "### Unique values in each feature"
   ]
  },
  {
   "cell_type": "code",
   "execution_count": 39,
   "id": "5fc6f8c2-fecc-4a50-ad1d-40a2184fc329",
   "metadata": {},
   "outputs": [
    {
     "name": "stdout",
     "output_type": "stream",
     "text": [
      "Column Name :  Company\n",
      "Unique values :  ['TCS' 'Infosys' 'CTS' nan 'Tata Consultancy Services' 'Congnizant'\n",
      " 'Infosys Pvt Lmt']\n",
      "Count :  7\n",
      "\n",
      "\n",
      "Column Name :  Age\n",
      "Unique values :  [20. 30. 35. 40. 23. nan 34. 45. 18. 22. 32. 37. 50. 21. 46. 36. 26. 41.\n",
      " 24. 25. 43. 19. 38. 51. 31. 44. 33. 17.  0. 54.]\n",
      "Count :  30\n",
      "\n",
      "\n",
      "Column Name :  Salary\n",
      "Unique values :  [  nan 2300. 3000. 4000. 5000. 6000. 7000. 8000. 9000. 1089. 1234. 3030.\n",
      " 3045. 3184. 4824. 5835. 7084. 8943. 8345. 9284. 9876. 2034. 7654. 2934.\n",
      " 4034. 5034. 8202. 9024. 4345. 6544. 6543. 3234. 4324. 5435. 5555. 8787.\n",
      " 3454. 5654. 5009. 5098. 3033.]\n",
      "Count :  41\n",
      "\n",
      "\n",
      "Column Name :  Place\n",
      "Unique values :  ['Chennai' 'Mumbai' 'Calcutta' 'Delhi' 'Podicherry' 'Cochin' nan 'Noida'\n",
      " 'Hyderabad' 'Bhopal' 'Nagpur' 'Pune']\n",
      "Count :  12\n",
      "\n",
      "\n",
      "Column Name :  Country\n",
      "Unique values :  ['India']\n",
      "Count :  1\n",
      "\n",
      "\n",
      "Column Name :  Gender\n",
      "Unique values :  [0 1]\n",
      "Count :  2\n",
      "\n",
      "\n"
     ]
    }
   ],
   "source": [
    "unique_value = {}\n",
    "\n",
    "for col in df.columns:\n",
    "   unique_values = df[col].unique()\n",
    "   unique_count = len(unique_values)\n",
    "   unique_value[col] = {\n",
    "        \"Unique_values\" : unique_values,\n",
    "        \"Unique_count\" : unique_count\n",
    "    }\n",
    "\n",
    "for col, details in unique_value.items() :\n",
    "    print(\"Column Name : \", col)\n",
    "    print(\"Unique values : \", details['Unique_values'])\n",
    "    print(\"Count : \", details['Unique_count'])\n",
    "    print('\\n')\n",
    "    \n",
    "\n",
    "    \n",
    "    \n",
    "    \n"
   ]
  },
  {
   "cell_type": "markdown",
   "id": "f854e728-c215-42eb-b041-67ce20d06384",
   "metadata": {},
   "source": [
    "### Statistical Analysis"
   ]
  },
  {
   "cell_type": "code",
   "execution_count": 40,
   "id": "628b752c-ec92-4425-bd8d-e779eef6fbba",
   "metadata": {},
   "outputs": [
    {
     "data": {
      "text/html": [
       "<div>\n",
       "<style scoped>\n",
       "    .dataframe tbody tr th:only-of-type {\n",
       "        vertical-align: middle;\n",
       "    }\n",
       "\n",
       "    .dataframe tbody tr th {\n",
       "        vertical-align: top;\n",
       "    }\n",
       "\n",
       "    .dataframe thead th {\n",
       "        text-align: right;\n",
       "    }\n",
       "</style>\n",
       "<table border=\"1\" class=\"dataframe\">\n",
       "  <thead>\n",
       "    <tr style=\"text-align: right;\">\n",
       "      <th></th>\n",
       "      <th>Age</th>\n",
       "      <th>Salary</th>\n",
       "      <th>Gender</th>\n",
       "    </tr>\n",
       "  </thead>\n",
       "  <tbody>\n",
       "    <tr>\n",
       "      <th>count</th>\n",
       "      <td>130.000000</td>\n",
       "      <td>124.000000</td>\n",
       "      <td>148.000000</td>\n",
       "    </tr>\n",
       "    <tr>\n",
       "      <th>mean</th>\n",
       "      <td>30.484615</td>\n",
       "      <td>5312.467742</td>\n",
       "      <td>0.222973</td>\n",
       "    </tr>\n",
       "    <tr>\n",
       "      <th>std</th>\n",
       "      <td>11.096640</td>\n",
       "      <td>2573.764683</td>\n",
       "      <td>0.417654</td>\n",
       "    </tr>\n",
       "    <tr>\n",
       "      <th>min</th>\n",
       "      <td>0.000000</td>\n",
       "      <td>1089.000000</td>\n",
       "      <td>0.000000</td>\n",
       "    </tr>\n",
       "    <tr>\n",
       "      <th>25%</th>\n",
       "      <td>22.000000</td>\n",
       "      <td>3030.000000</td>\n",
       "      <td>0.000000</td>\n",
       "    </tr>\n",
       "    <tr>\n",
       "      <th>50%</th>\n",
       "      <td>32.500000</td>\n",
       "      <td>5000.000000</td>\n",
       "      <td>0.000000</td>\n",
       "    </tr>\n",
       "    <tr>\n",
       "      <th>75%</th>\n",
       "      <td>37.750000</td>\n",
       "      <td>8000.000000</td>\n",
       "      <td>0.000000</td>\n",
       "    </tr>\n",
       "    <tr>\n",
       "      <th>max</th>\n",
       "      <td>54.000000</td>\n",
       "      <td>9876.000000</td>\n",
       "      <td>1.000000</td>\n",
       "    </tr>\n",
       "  </tbody>\n",
       "</table>\n",
       "</div>"
      ],
      "text/plain": [
       "              Age       Salary      Gender\n",
       "count  130.000000   124.000000  148.000000\n",
       "mean    30.484615  5312.467742    0.222973\n",
       "std     11.096640  2573.764683    0.417654\n",
       "min      0.000000  1089.000000    0.000000\n",
       "25%     22.000000  3030.000000    0.000000\n",
       "50%     32.500000  5000.000000    0.000000\n",
       "75%     37.750000  8000.000000    0.000000\n",
       "max     54.000000  9876.000000    1.000000"
      ]
     },
     "execution_count": 40,
     "metadata": {},
     "output_type": "execute_result"
    }
   ],
   "source": [
    "df.describe()   ## overall description"
   ]
  },
  {
   "cell_type": "code",
   "execution_count": 44,
   "id": "ac507b53-9e17-44ae-8908-ec1dcbe43fc9",
   "metadata": {},
   "outputs": [
    {
     "data": {
      "text/html": [
       "<div>\n",
       "<style scoped>\n",
       "    .dataframe tbody tr th:only-of-type {\n",
       "        vertical-align: middle;\n",
       "    }\n",
       "\n",
       "    .dataframe tbody tr th {\n",
       "        vertical-align: top;\n",
       "    }\n",
       "\n",
       "    .dataframe thead th {\n",
       "        text-align: right;\n",
       "    }\n",
       "</style>\n",
       "<table border=\"1\" class=\"dataframe\">\n",
       "  <thead>\n",
       "    <tr style=\"text-align: right;\">\n",
       "      <th></th>\n",
       "      <th>count</th>\n",
       "      <th>mean</th>\n",
       "      <th>std</th>\n",
       "      <th>min</th>\n",
       "      <th>25%</th>\n",
       "      <th>50%</th>\n",
       "      <th>75%</th>\n",
       "      <th>max</th>\n",
       "    </tr>\n",
       "  </thead>\n",
       "  <tbody>\n",
       "    <tr>\n",
       "      <th>Age</th>\n",
       "      <td>130.0</td>\n",
       "      <td>30.48</td>\n",
       "      <td>11.10</td>\n",
       "      <td>0.0</td>\n",
       "      <td>22.0</td>\n",
       "      <td>32.5</td>\n",
       "      <td>37.75</td>\n",
       "      <td>54.0</td>\n",
       "    </tr>\n",
       "    <tr>\n",
       "      <th>Salary</th>\n",
       "      <td>124.0</td>\n",
       "      <td>5312.47</td>\n",
       "      <td>2573.76</td>\n",
       "      <td>1089.0</td>\n",
       "      <td>3030.0</td>\n",
       "      <td>5000.0</td>\n",
       "      <td>8000.00</td>\n",
       "      <td>9876.0</td>\n",
       "    </tr>\n",
       "    <tr>\n",
       "      <th>Gender</th>\n",
       "      <td>148.0</td>\n",
       "      <td>0.22</td>\n",
       "      <td>0.42</td>\n",
       "      <td>0.0</td>\n",
       "      <td>0.0</td>\n",
       "      <td>0.0</td>\n",
       "      <td>0.00</td>\n",
       "      <td>1.0</td>\n",
       "    </tr>\n",
       "  </tbody>\n",
       "</table>\n",
       "</div>"
      ],
      "text/plain": [
       "        count     mean      std     min     25%     50%      75%     max\n",
       "Age     130.0    30.48    11.10     0.0    22.0    32.5    37.75    54.0\n",
       "Salary  124.0  5312.47  2573.76  1089.0  3030.0  5000.0  8000.00  9876.0\n",
       "Gender  148.0     0.22     0.42     0.0     0.0     0.0     0.00     1.0"
      ]
     },
     "execution_count": 44,
     "metadata": {},
     "output_type": "execute_result"
    }
   ],
   "source": [
    "df.describe().T.round(2)    ## description of numerical features"
   ]
  },
  {
   "cell_type": "code",
   "execution_count": 45,
   "id": "d5303c14-01fe-4510-b880-56dbc8667be1",
   "metadata": {},
   "outputs": [
    {
     "data": {
      "text/html": [
       "<div>\n",
       "<style scoped>\n",
       "    .dataframe tbody tr th:only-of-type {\n",
       "        vertical-align: middle;\n",
       "    }\n",
       "\n",
       "    .dataframe tbody tr th {\n",
       "        vertical-align: top;\n",
       "    }\n",
       "\n",
       "    .dataframe thead th {\n",
       "        text-align: right;\n",
       "    }\n",
       "</style>\n",
       "<table border=\"1\" class=\"dataframe\">\n",
       "  <thead>\n",
       "    <tr style=\"text-align: right;\">\n",
       "      <th></th>\n",
       "      <th>Company</th>\n",
       "      <th>Place</th>\n",
       "      <th>Country</th>\n",
       "    </tr>\n",
       "  </thead>\n",
       "  <tbody>\n",
       "    <tr>\n",
       "      <th>count</th>\n",
       "      <td>140</td>\n",
       "      <td>134</td>\n",
       "      <td>148</td>\n",
       "    </tr>\n",
       "    <tr>\n",
       "      <th>unique</th>\n",
       "      <td>6</td>\n",
       "      <td>11</td>\n",
       "      <td>1</td>\n",
       "    </tr>\n",
       "    <tr>\n",
       "      <th>top</th>\n",
       "      <td>TCS</td>\n",
       "      <td>Mumbai</td>\n",
       "      <td>India</td>\n",
       "    </tr>\n",
       "    <tr>\n",
       "      <th>freq</th>\n",
       "      <td>53</td>\n",
       "      <td>37</td>\n",
       "      <td>148</td>\n",
       "    </tr>\n",
       "  </tbody>\n",
       "</table>\n",
       "</div>"
      ],
      "text/plain": [
       "       Company   Place Country\n",
       "count      140     134     148\n",
       "unique       6      11       1\n",
       "top        TCS  Mumbai   India\n",
       "freq        53      37     148"
      ]
     },
     "execution_count": 45,
     "metadata": {},
     "output_type": "execute_result"
    }
   ],
   "source": [
    "df.describe(include=object)    ## description of categorical features"
   ]
  },
  {
   "cell_type": "markdown",
   "id": "c892c162-dd57-4876-bda3-150e357243c8",
   "metadata": {},
   "source": [
    "### Renaming of Columns"
   ]
  },
  {
   "cell_type": "code",
   "execution_count": 49,
   "id": "6d6e30f0-9b0e-4f05-a3cd-e59d4c73574d",
   "metadata": {},
   "outputs": [
    {
     "data": {
      "text/html": [
       "<div>\n",
       "<style scoped>\n",
       "    .dataframe tbody tr th:only-of-type {\n",
       "        vertical-align: middle;\n",
       "    }\n",
       "\n",
       "    .dataframe tbody tr th {\n",
       "        vertical-align: top;\n",
       "    }\n",
       "\n",
       "    .dataframe thead th {\n",
       "        text-align: right;\n",
       "    }\n",
       "</style>\n",
       "<table border=\"1\" class=\"dataframe\">\n",
       "  <thead>\n",
       "    <tr style=\"text-align: right;\">\n",
       "      <th></th>\n",
       "      <th>Company Name</th>\n",
       "      <th>Age</th>\n",
       "      <th>Salary</th>\n",
       "      <th>Region</th>\n",
       "      <th>Country</th>\n",
       "      <th>Gender</th>\n",
       "    </tr>\n",
       "  </thead>\n",
       "  <tbody>\n",
       "    <tr>\n",
       "      <th>0</th>\n",
       "      <td>TCS</td>\n",
       "      <td>20.0</td>\n",
       "      <td>NaN</td>\n",
       "      <td>Chennai</td>\n",
       "      <td>India</td>\n",
       "      <td>0</td>\n",
       "    </tr>\n",
       "    <tr>\n",
       "      <th>1</th>\n",
       "      <td>Infosys</td>\n",
       "      <td>30.0</td>\n",
       "      <td>NaN</td>\n",
       "      <td>Mumbai</td>\n",
       "      <td>India</td>\n",
       "      <td>0</td>\n",
       "    </tr>\n",
       "    <tr>\n",
       "      <th>2</th>\n",
       "      <td>TCS</td>\n",
       "      <td>35.0</td>\n",
       "      <td>2300.0</td>\n",
       "      <td>Calcutta</td>\n",
       "      <td>India</td>\n",
       "      <td>0</td>\n",
       "    </tr>\n",
       "    <tr>\n",
       "      <th>3</th>\n",
       "      <td>Infosys</td>\n",
       "      <td>40.0</td>\n",
       "      <td>3000.0</td>\n",
       "      <td>Delhi</td>\n",
       "      <td>India</td>\n",
       "      <td>0</td>\n",
       "    </tr>\n",
       "    <tr>\n",
       "      <th>4</th>\n",
       "      <td>TCS</td>\n",
       "      <td>23.0</td>\n",
       "      <td>4000.0</td>\n",
       "      <td>Mumbai</td>\n",
       "      <td>India</td>\n",
       "      <td>0</td>\n",
       "    </tr>\n",
       "  </tbody>\n",
       "</table>\n",
       "</div>"
      ],
      "text/plain": [
       "  Company Name   Age  Salary    Region Country  Gender\n",
       "0          TCS  20.0     NaN   Chennai   India       0\n",
       "1      Infosys  30.0     NaN    Mumbai   India       0\n",
       "2          TCS  35.0  2300.0  Calcutta   India       0\n",
       "3      Infosys  40.0  3000.0     Delhi   India       0\n",
       "4          TCS  23.0  4000.0    Mumbai   India       0"
      ]
     },
     "execution_count": 49,
     "metadata": {},
     "output_type": "execute_result"
    }
   ],
   "source": [
    "df.rename(columns={\n",
    "    \"Company\" : \"Company Name\",\n",
    "    \"Place\" : \"Region\",\n",
    "},inplace=True)\n",
    "\n",
    "df.head()"
   ]
  },
  {
   "cell_type": "markdown",
   "id": "d5416509-c0f9-4f32-af3f-31d4a0ce6e4d",
   "metadata": {},
   "source": [
    "# Data Cleaning"
   ]
  },
  {
   "cell_type": "markdown",
   "id": "503c44e6-595f-4a6d-a2d2-d67c7bd4dba0",
   "metadata": {},
   "source": [
    "### Finding missing and inappropriate values and handle"
   ]
  },
  {
   "cell_type": "code",
   "execution_count": 53,
   "id": "450b0188-946d-4743-9fe7-c2ee0fa556d9",
   "metadata": {},
   "outputs": [
    {
     "name": "stdout",
     "output_type": "stream",
     "text": [
      "Missing values :\n"
     ]
    },
    {
     "data": {
      "text/plain": [
       "Company Name     8\n",
       "Age             18\n",
       "Salary          24\n",
       "Region          14\n",
       "Country          0\n",
       "Gender           0\n",
       "dtype: int64"
      ]
     },
     "execution_count": 53,
     "metadata": {},
     "output_type": "execute_result"
    }
   ],
   "source": [
    "print(\"Missing values count:\")\n",
    "df.isnull().sum()"
   ]
  },
  {
   "cell_type": "raw",
   "id": "97cf6a64-396b-4b50-b372-bc1118ffb1b7",
   "metadata": {},
   "source": [
    "As the company name of 8 rows are null, we have to drop those rows, because rows without company names are useless"
   ]
  },
  {
   "cell_type": "code",
   "execution_count": 54,
   "id": "caf0cfac-04f2-422c-8f34-8e77215484f9",
   "metadata": {},
   "outputs": [],
   "source": [
    "df.dropna(subset=['Company Name'],inplace = True)"
   ]
  },
  {
   "cell_type": "raw",
   "id": "0d3611c2-5f4b-4aa8-8d88-fa150d91038f",
   "metadata": {},
   "source": [
    "Fill Age with null values by 'NAN'"
   ]
  },
  {
   "cell_type": "code",
   "execution_count": 58,
   "id": "0025c0b6-a892-408a-af81-feda17eef2b5",
   "metadata": {},
   "outputs": [],
   "source": [
    "df['Age'].fillna(\"NAN\",inplace=True)"
   ]
  },
  {
   "cell_type": "raw",
   "id": "bba7258b-50e1-448b-af6a-269d54b570b6",
   "metadata": {},
   "source": [
    "Fill Salary with null values by mean"
   ]
  },
  {
   "cell_type": "code",
   "execution_count": 59,
   "id": "de86e208-05c9-4129-8bdb-b3b2b5c34952",
   "metadata": {},
   "outputs": [],
   "source": [
    "df['Salary'].fillna(df['Salary'].mean(),inplace=True)"
   ]
  },
  {
   "cell_type": "raw",
   "id": "7dab9bbb-8d61-4d17-b76c-af2b3ee7f679",
   "metadata": {},
   "source": [
    "Fill Region with null values by mode"
   ]
  },
  {
   "cell_type": "code",
   "execution_count": 63,
   "id": "546a3e6e-6636-4cd9-8133-320a22ee20f2",
   "metadata": {},
   "outputs": [],
   "source": [
    "df['Region'].fillna(df['Region'].mode()[0],inplace=True)"
   ]
  },
  {
   "cell_type": "code",
   "execution_count": 64,
   "id": "8b46962e-ddaa-4106-8e34-2b5e3cad102a",
   "metadata": {},
   "outputs": [
    {
     "data": {
      "text/plain": [
       "Company Name    0\n",
       "Age             0\n",
       "Salary          0\n",
       "Region          0\n",
       "Country         0\n",
       "Gender          0\n",
       "dtype: int64"
      ]
     },
     "execution_count": 64,
     "metadata": {},
     "output_type": "execute_result"
    }
   ],
   "source": [
    "df.isnull().sum()"
   ]
  },
  {
   "cell_type": "raw",
   "id": "1c6d18ba-2d69-4fb0-b909-761dc6c47517",
   "metadata": {},
   "source": [
    "Thus all null values are handled"
   ]
  },
  {
   "cell_type": "markdown",
   "id": "b530269f-98fd-48be-b3a9-515dfc8606fd",
   "metadata": {},
   "source": [
    "### Remove Duplicate rows"
   ]
  },
  {
   "cell_type": "code",
   "execution_count": 66,
   "id": "241fa703-d7ab-46b1-81f7-7a37ac6eb98e",
   "metadata": {},
   "outputs": [
    {
     "data": {
      "text/plain": [
       "4"
      ]
     },
     "execution_count": 66,
     "metadata": {},
     "output_type": "execute_result"
    }
   ],
   "source": [
    "df.duplicated().sum()"
   ]
  },
  {
   "cell_type": "code",
   "execution_count": 70,
   "id": "b55a4592-94a4-4d60-99ae-a51cdefa2eec",
   "metadata": {},
   "outputs": [],
   "source": [
    "df.drop_duplicates(inplace = True)"
   ]
  },
  {
   "cell_type": "code",
   "execution_count": 71,
   "id": "747077bf-afbd-4818-9971-3b422e0391b3",
   "metadata": {},
   "outputs": [
    {
     "data": {
      "text/plain": [
       "0"
      ]
     },
     "execution_count": 71,
     "metadata": {},
     "output_type": "execute_result"
    }
   ],
   "source": [
    "df.duplicated().sum()"
   ]
  },
  {
   "cell_type": "markdown",
   "id": "3d2c0848-b410-4bb2-ba02-7686aa12fd43",
   "metadata": {},
   "source": [
    "### Find Outliers"
   ]
  },
  {
   "cell_type": "code",
   "execution_count": 72,
   "id": "59ad8b18-fff1-41da-aa87-4cdacf2443a6",
   "metadata": {},
   "outputs": [
    {
     "data": {
      "image/png": "[encoded data removed]",
      "text/plain": [
       "<Figure size 800x600 with 1 Axes>"
      ]
     },
     "metadata": {},
     "output_type": "display_data"
    }
   ],
   "source": [
    "plt.figure(figsize=(8, 6))\n",
    "plt.boxplot(df['Salary'])\n",
    "plt.title('Salary Boxplot')\n",
    "plt.ylabel('Salary')\n",
    "plt.show()"
   ]
  },
  {
   "cell_type": "code",
   "execution_count": 73,
   "id": "250bcf9b-a0c6-4273-be4b-0bf304bc1b22",
   "metadata": {},
   "outputs": [
    {
     "data": {
      "text/plain": [
       "0.20824384525217676"
      ]
     },
     "execution_count": 73,
     "metadata": {},
     "output_type": "execute_result"
    }
   ],
   "source": [
    "df['Salary'].skew()"
   ]
  },
  {
   "cell_type": "code",
   "execution_count": 74,
   "id": "088487b7-d794-4be2-9e6e-83cb234eecfc",
   "metadata": {},
   "outputs": [
    {
     "name": "stderr",
     "output_type": "stream",
     "text": [
      "C:\\Users\\joncy\\anaconda3\\Lib\\site-packages\\seaborn\\_oldcore.py:1119: FutureWarning: use_inf_as_na option is deprecated and will be removed in a future version. Convert inf values to NaN before operating instead.\n",
      "  with pd.option_context('mode.use_inf_as_na', True):\n"
     ]
    },
    {
     "data": {
      "image/png": "[encoded data removed]",
      "text/plain": [
       "<Figure size 1000x600 with 1 Axes>"
      ]
     },
     "metadata": {},
     "output_type": "display_data"
    }
   ],
   "source": [
    "plt.figure(figsize=(10,6))\n",
    "sns.histplot(df['Salary'],kde=True)\n",
    "plt.show()"
   ]
  },
  {
   "cell_type": "raw",
   "id": "509841da-cb0a-43fd-b5fc-c203e040a1f1",
   "metadata": {},
   "source": [
    "Boxplotnot showing any outliers and skewness value is 0.2, which fairly symmentric. So we can conclude that there's not much outliers"
   ]
  },
  {
   "cell_type": "markdown",
   "id": "282f2994-ad38-47c6-adda-903bcca2c30c",
   "metadata": {},
   "source": [
    "# Data Analysis"
   ]
  },
  {
   "cell_type": "markdown",
   "id": "0b5316e8-0d7a-46f2-b76d-b33e8691fbb5",
   "metadata": {},
   "source": [
    "### Data with age >40 and salary<5000"
   ]
  },
  {
   "cell_type": "code",
   "execution_count": 82,
   "id": "6a7487c4-9da1-49b7-b434-3f51e627c4ed",
   "metadata": {},
   "outputs": [],
   "source": [
    "df['Age'] = pd.to_numeric(df['Age'],errors='coerce')"
   ]
  },
  {
   "cell_type": "code",
   "execution_count": 84,
   "id": "d15837b4-2c15-4668-a546-79742d7a8916",
   "metadata": {},
   "outputs": [
    {
     "name": "stdout",
     "output_type": "stream",
     "text": [
      "    Company Name   Age  Salary     Region Country  Gender\n",
      "21       Infosys  50.0  3184.0      Delhi   India       0\n",
      "32       Infosys  45.0  4034.0   Calcutta   India       0\n",
      "39       Infosys  41.0  3000.0     Mumbai   India       0\n",
      "50       Infosys  41.0  3000.0    Chennai   India       0\n",
      "57       Infosys  51.0  3184.0  Hyderabad   India       0\n",
      "68       Infosys  43.0  4034.0     Mumbai   India       0\n",
      "75       Infosys  44.0  3000.0     Cochin   India       0\n",
      "86       Infosys  41.0  3000.0      Delhi   India       0\n",
      "93       Infosys  54.0  3184.0     Mumbai   India       0\n",
      "104      Infosys  44.0  4034.0      Delhi   India       0\n",
      "122      Infosys  44.0  3234.0     Mumbai   India       0\n",
      "129      Infosys  50.0  3184.0   Calcutta   India       0\n",
      "138          CTS  44.0  3033.0     Cochin   India       0\n",
      "140      Infosys  44.0  4034.0  Hyderabad   India       0\n",
      "145      Infosys  44.0  4034.0      Delhi   India       1\n"
     ]
    }
   ],
   "source": [
    "print(df.loc[(df.Age>40) & (df.Salary<5000)])"
   ]
  },
  {
   "cell_type": "code",
   "execution_count": 85,
   "id": "1ff86d5e-8f2a-473d-9469-40f69c3b63ab",
   "metadata": {},
   "outputs": [],
   "source": [
    "### Chart age with salary"
   ]
  },
  {
   "cell_type": "code",
   "execution_count": 87,
   "id": "e48024aa-86f7-4c81-adb8-cf12822468dd",
   "metadata": {},
   "outputs": [
    {
     "data": {
      "image/png": "[encoded data removed]",
      "text/plain": [
       "<Figure size 800x600 with 1 Axes>"
      ]
     },
     "metadata": {},
     "output_type": "display_data"
    }
   ],
   "source": [
    "plt.figure(figsize=(8, 6))\n",
    "plt.scatter(df['Age'], df['Salary'], alpha=0.5, color='red', edgecolor='k')\n",
    "plt.title('Scatter Plot of Age vs Salary')\n",
    "plt.xlabel('Age')\n",
    "plt.ylabel('Salary')\n",
    "plt.grid(True)\n",
    "plt.show()"
   ]
  },
  {
   "cell_type": "code",
   "execution_count": 91,
   "id": "14135654-779a-46f6-a0bd-4cce1209b6a3",
   "metadata": {},
   "outputs": [
    {
     "data": {
      "text/plain": [
       "{'Unique_values': array(['Chennai', 'Mumbai', 'Calcutta', 'Delhi', 'Podicherry', 'Cochin',\n",
       "        nan, 'Noida', 'Hyderabad', 'Bhopal', 'Nagpur', 'Pune'],\n",
       "       dtype=object),\n",
       " 'Unique_count': 12}"
      ]
     },
     "execution_count": 91,
     "metadata": {},
     "output_type": "execute_result"
    }
   ],
   "source": [
    "unique_value['Place']"
   ]
  },
  {
   "cell_type": "markdown",
   "id": "f11c73b0-3384-4272-877d-a9a0dedfb763",
   "metadata": {},
   "source": [
    "### No. of people from each place"
   ]
  },
  {
   "cell_type": "code",
   "execution_count": 100,
   "id": "98e98c72-8842-4f1c-9e2a-230744906a12",
   "metadata": {},
   "outputs": [
    {
     "data": {
      "text/plain": [
       "Region\n",
       "Mumbai        46\n",
       "Calcutta      30\n",
       "Chennai       13\n",
       "Delhi         13\n",
       "Cochin        13\n",
       "Noida          7\n",
       "Hyderabad      7\n",
       "Podicherry     3\n",
       "Pune           2\n",
       "Bhopal         1\n",
       "Nagpur         1\n",
       "Name: count, dtype: int64"
      ]
     },
     "execution_count": 100,
     "metadata": {},
     "output_type": "execute_result"
    }
   ],
   "source": [
    "People_count = (df['Region'].value_counts())\n",
    "People_count"
   ]
  },
  {
   "cell_type": "code",
   "execution_count": 101,
   "id": "b0991a04-79eb-4697-9078-8e88d80ad571",
   "metadata": {},
   "outputs": [
    {
     "data": {
      "text/plain": [
       "<Axes: ylabel='Region'>"
      ]
     },
     "execution_count": 101,
     "metadata": {},
     "output_type": "execute_result"
    },
    {
     "data": {
      "image/png": "[encoded data removed]",
      "text/plain": [
       "<Figure size 640x480 with 1 Axes>"
      ]
     },
     "metadata": {},
     "output_type": "display_data"
    }
   ],
   "source": [
    "df['Region'].value_counts().plot(kind='barh')"
   ]
  },
  {
   "cell_type": "markdown",
   "id": "1af421a1-509a-4163-b2c3-54aba695dd59",
   "metadata": {},
   "source": [
    "# Data Encoding"
   ]
  },
  {
   "cell_type": "markdown",
   "id": "5c9aff65-82ab-47e7-a240-c770ccff4535",
   "metadata": {},
   "source": [
    "## Label Encoding"
   ]
  },
  {
   "cell_type": "code",
   "execution_count": 103,
   "id": "b3e40cac-2a7c-436a-8a9a-926893de0252",
   "metadata": {},
   "outputs": [],
   "source": [
    "from sklearn.preprocessing import LabelEncoder"
   ]
  },
  {
   "cell_type": "code",
   "execution_count": 104,
   "id": "236c9dce-d473-46c7-a0db-3a89905114d5",
   "metadata": {},
   "outputs": [
    {
     "name": "stdout",
     "output_type": "stream",
     "text": [
      "<class 'pandas.core.frame.DataFrame'>\n",
      "Index: 136 entries, 0 to 147\n",
      "Data columns (total 6 columns):\n",
      " #   Column        Non-Null Count  Dtype  \n",
      "---  ------        --------------  -----  \n",
      " 0   Company Name  136 non-null    object \n",
      " 1   Age           121 non-null    float64\n",
      " 2   Salary        136 non-null    float64\n",
      " 3   Region        136 non-null    object \n",
      " 4   Country       136 non-null    object \n",
      " 5   Gender        136 non-null    int64  \n",
      "dtypes: float64(2), int64(1), object(3)\n",
      "memory usage: 7.4+ KB\n"
     ]
    }
   ],
   "source": [
    "df.info()"
   ]
  },
  {
   "cell_type": "markdown",
   "id": "9ef95afc-d339-4c02-b88a-6693b8ef7e0b",
   "metadata": {},
   "source": [
    "#### Country"
   ]
  },
  {
   "cell_type": "code",
   "execution_count": 109,
   "id": "a0e6906f-ab06-47bc-bb8a-ac825f2498ef",
   "metadata": {},
   "outputs": [],
   "source": [
    "label = LabelEncoder()\n",
    "df['Country label_encode']=label.fit_transform(df['Country'])"
   ]
  },
  {
   "cell_type": "markdown",
   "id": "76a1e028-04f7-462c-a451-77f87e9b7329",
   "metadata": {},
   "source": [
    "#### Region"
   ]
  },
  {
   "cell_type": "code",
   "execution_count": 116,
   "id": "97f1a1ce-513e-4e14-901d-1f1b83e99618",
   "metadata": {},
   "outputs": [
    {
     "data": {
      "text/html": [
       "<div>\n",
       "<style scoped>\n",
       "    .dataframe tbody tr th:only-of-type {\n",
       "        vertical-align: middle;\n",
       "    }\n",
       "\n",
       "    .dataframe tbody tr th {\n",
       "        vertical-align: top;\n",
       "    }\n",
       "\n",
       "    .dataframe thead th {\n",
       "        text-align: right;\n",
       "    }\n",
       "</style>\n",
       "<table border=\"1\" class=\"dataframe\">\n",
       "  <thead>\n",
       "    <tr style=\"text-align: right;\">\n",
       "      <th></th>\n",
       "      <th>Company Name</th>\n",
       "      <th>Age</th>\n",
       "      <th>Salary</th>\n",
       "      <th>Region</th>\n",
       "      <th>Country</th>\n",
       "      <th>Gender</th>\n",
       "      <th>Country labelencode</th>\n",
       "      <th>Region labelencode</th>\n",
       "      <th>Country label_encode</th>\n",
       "      <th>Region label_encode</th>\n",
       "    </tr>\n",
       "  </thead>\n",
       "  <tbody>\n",
       "    <tr>\n",
       "      <th>0</th>\n",
       "      <td>TCS</td>\n",
       "      <td>20.0</td>\n",
       "      <td>5276.159664</td>\n",
       "      <td>Chennai</td>\n",
       "      <td>India</td>\n",
       "      <td>0</td>\n",
       "      <td>0</td>\n",
       "      <td>2</td>\n",
       "      <td>0</td>\n",
       "      <td>2</td>\n",
       "    </tr>\n",
       "    <tr>\n",
       "      <th>1</th>\n",
       "      <td>Infosys</td>\n",
       "      <td>30.0</td>\n",
       "      <td>5276.159664</td>\n",
       "      <td>Mumbai</td>\n",
       "      <td>India</td>\n",
       "      <td>0</td>\n",
       "      <td>0</td>\n",
       "      <td>6</td>\n",
       "      <td>0</td>\n",
       "      <td>6</td>\n",
       "    </tr>\n",
       "    <tr>\n",
       "      <th>2</th>\n",
       "      <td>TCS</td>\n",
       "      <td>35.0</td>\n",
       "      <td>2300.000000</td>\n",
       "      <td>Calcutta</td>\n",
       "      <td>India</td>\n",
       "      <td>0</td>\n",
       "      <td>0</td>\n",
       "      <td>1</td>\n",
       "      <td>0</td>\n",
       "      <td>1</td>\n",
       "    </tr>\n",
       "    <tr>\n",
       "      <th>3</th>\n",
       "      <td>Infosys</td>\n",
       "      <td>40.0</td>\n",
       "      <td>3000.000000</td>\n",
       "      <td>Delhi</td>\n",
       "      <td>India</td>\n",
       "      <td>0</td>\n",
       "      <td>0</td>\n",
       "      <td>4</td>\n",
       "      <td>0</td>\n",
       "      <td>4</td>\n",
       "    </tr>\n",
       "    <tr>\n",
       "      <th>4</th>\n",
       "      <td>TCS</td>\n",
       "      <td>23.0</td>\n",
       "      <td>4000.000000</td>\n",
       "      <td>Mumbai</td>\n",
       "      <td>India</td>\n",
       "      <td>0</td>\n",
       "      <td>0</td>\n",
       "      <td>6</td>\n",
       "      <td>0</td>\n",
       "      <td>6</td>\n",
       "    </tr>\n",
       "  </tbody>\n",
       "</table>\n",
       "</div>"
      ],
      "text/plain": [
       "  Company Name   Age       Salary    Region Country  Gender  \\\n",
       "0          TCS  20.0  5276.159664   Chennai   India       0   \n",
       "1      Infosys  30.0  5276.159664    Mumbai   India       0   \n",
       "2          TCS  35.0  2300.000000  Calcutta   India       0   \n",
       "3      Infosys  40.0  3000.000000     Delhi   India       0   \n",
       "4          TCS  23.0  4000.000000    Mumbai   India       0   \n",
       "\n",
       "   Country labelencode  Region labelencode  Country label_encode  \\\n",
       "0                    0                   2                     0   \n",
       "1                    0                   6                     0   \n",
       "2                    0                   1                     0   \n",
       "3                    0                   4                     0   \n",
       "4                    0                   6                     0   \n",
       "\n",
       "   Region label_encode  \n",
       "0                    2  \n",
       "1                    6  \n",
       "2                    1  \n",
       "3                    4  \n",
       "4                    6  "
      ]
     },
     "execution_count": 116,
     "metadata": {},
     "output_type": "execute_result"
    }
   ],
   "source": [
    "df['Region label_encode'] = label.fit_transform(df['Region'])\n",
    "df.head()"
   ]
  },
  {
   "cell_type": "markdown",
   "id": "1f369058-9f11-4381-9def-7cea8f5a78fb",
   "metadata": {},
   "source": [
    "## One hot Encoding"
   ]
  },
  {
   "cell_type": "markdown",
   "id": "7fce6c0a-d380-46a3-80a2-fb7603b32f52",
   "metadata": {},
   "source": [
    "#### Company Name"
   ]
  },
  {
   "cell_type": "code",
   "execution_count": 117,
   "id": "1183e0b2-0fe9-43db-a762-5636551a9fcb",
   "metadata": {},
   "outputs": [
    {
     "data": {
      "text/html": [
       "<div>\n",
       "<style scoped>\n",
       "    .dataframe tbody tr th:only-of-type {\n",
       "        vertical-align: middle;\n",
       "    }\n",
       "\n",
       "    .dataframe tbody tr th {\n",
       "        vertical-align: top;\n",
       "    }\n",
       "\n",
       "    .dataframe thead th {\n",
       "        text-align: right;\n",
       "    }\n",
       "</style>\n",
       "<table border=\"1\" class=\"dataframe\">\n",
       "  <thead>\n",
       "    <tr style=\"text-align: right;\">\n",
       "      <th></th>\n",
       "      <th>CTS</th>\n",
       "      <th>Congnizant</th>\n",
       "      <th>Infosys</th>\n",
       "      <th>Infosys Pvt Lmt</th>\n",
       "      <th>TCS</th>\n",
       "      <th>Tata Consultancy Services</th>\n",
       "    </tr>\n",
       "  </thead>\n",
       "  <tbody>\n",
       "    <tr>\n",
       "      <th>0</th>\n",
       "      <td>0</td>\n",
       "      <td>0</td>\n",
       "      <td>0</td>\n",
       "      <td>0</td>\n",
       "      <td>1</td>\n",
       "      <td>0</td>\n",
       "    </tr>\n",
       "    <tr>\n",
       "      <th>1</th>\n",
       "      <td>0</td>\n",
       "      <td>0</td>\n",
       "      <td>1</td>\n",
       "      <td>0</td>\n",
       "      <td>0</td>\n",
       "      <td>0</td>\n",
       "    </tr>\n",
       "    <tr>\n",
       "      <th>2</th>\n",
       "      <td>0</td>\n",
       "      <td>0</td>\n",
       "      <td>0</td>\n",
       "      <td>0</td>\n",
       "      <td>1</td>\n",
       "      <td>0</td>\n",
       "    </tr>\n",
       "    <tr>\n",
       "      <th>3</th>\n",
       "      <td>0</td>\n",
       "      <td>0</td>\n",
       "      <td>1</td>\n",
       "      <td>0</td>\n",
       "      <td>0</td>\n",
       "      <td>0</td>\n",
       "    </tr>\n",
       "    <tr>\n",
       "      <th>4</th>\n",
       "      <td>0</td>\n",
       "      <td>0</td>\n",
       "      <td>0</td>\n",
       "      <td>0</td>\n",
       "      <td>1</td>\n",
       "      <td>0</td>\n",
       "    </tr>\n",
       "    <tr>\n",
       "      <th>...</th>\n",
       "      <td>...</td>\n",
       "      <td>...</td>\n",
       "      <td>...</td>\n",
       "      <td>...</td>\n",
       "      <td>...</td>\n",
       "      <td>...</td>\n",
       "    </tr>\n",
       "    <tr>\n",
       "      <th>142</th>\n",
       "      <td>0</td>\n",
       "      <td>0</td>\n",
       "      <td>0</td>\n",
       "      <td>1</td>\n",
       "      <td>0</td>\n",
       "      <td>0</td>\n",
       "    </tr>\n",
       "    <tr>\n",
       "      <th>143</th>\n",
       "      <td>0</td>\n",
       "      <td>0</td>\n",
       "      <td>0</td>\n",
       "      <td>0</td>\n",
       "      <td>1</td>\n",
       "      <td>0</td>\n",
       "    </tr>\n",
       "    <tr>\n",
       "      <th>145</th>\n",
       "      <td>0</td>\n",
       "      <td>0</td>\n",
       "      <td>1</td>\n",
       "      <td>0</td>\n",
       "      <td>0</td>\n",
       "      <td>0</td>\n",
       "    </tr>\n",
       "    <tr>\n",
       "      <th>146</th>\n",
       "      <td>0</td>\n",
       "      <td>0</td>\n",
       "      <td>0</td>\n",
       "      <td>0</td>\n",
       "      <td>1</td>\n",
       "      <td>0</td>\n",
       "    </tr>\n",
       "    <tr>\n",
       "      <th>147</th>\n",
       "      <td>0</td>\n",
       "      <td>0</td>\n",
       "      <td>1</td>\n",
       "      <td>0</td>\n",
       "      <td>0</td>\n",
       "      <td>0</td>\n",
       "    </tr>\n",
       "  </tbody>\n",
       "</table>\n",
       "<p>136 rows × 6 columns</p>\n",
       "</div>"
      ],
      "text/plain": [
       "     CTS  Congnizant  Infosys  Infosys Pvt Lmt  TCS  Tata Consultancy Services\n",
       "0      0           0        0                0    1                          0\n",
       "1      0           0        1                0    0                          0\n",
       "2      0           0        0                0    1                          0\n",
       "3      0           0        1                0    0                          0\n",
       "4      0           0        0                0    1                          0\n",
       "..   ...         ...      ...              ...  ...                        ...\n",
       "142    0           0        0                1    0                          0\n",
       "143    0           0        0                0    1                          0\n",
       "145    0           0        1                0    0                          0\n",
       "146    0           0        0                0    1                          0\n",
       "147    0           0        1                0    0                          0\n",
       "\n",
       "[136 rows x 6 columns]"
      ]
     },
     "execution_count": 117,
     "metadata": {},
     "output_type": "execute_result"
    }
   ],
   "source": [
    "one_hot_endcoding = pd.get_dummies(df['Company Name'],drop_first=False)\n",
    "one_hot_endcoding.astype(int)"
   ]
  },
  {
   "cell_type": "markdown",
   "id": "9dd04c82-f98e-4bbe-8dd8-2043ff3f75cf",
   "metadata": {},
   "source": [
    "# Feature Scaling"
   ]
  },
  {
   "cell_type": "code",
   "execution_count": 120,
   "id": "781664fd-47d5-4a4e-8157-8dd215d7e1e1",
   "metadata": {},
   "outputs": [],
   "source": [
    "from sklearn.preprocessing import  StandardScaler, MinMaxScaler"
   ]
  },
  {
   "cell_type": "markdown",
   "id": "7afb8e7b-88fd-413c-b0c4-6aa70d0f4392",
   "metadata": {},
   "source": [
    "#### Standard Scaling"
   ]
  },
  {
   "cell_type": "code",
   "execution_count": 121,
   "id": "8e8519da-c214-4d96-9663-cb184e86ec0b",
   "metadata": {},
   "outputs": [
    {
     "data": {
      "text/html": [
       "<div>\n",
       "<style scoped>\n",
       "    .dataframe tbody tr th:only-of-type {\n",
       "        vertical-align: middle;\n",
       "    }\n",
       "\n",
       "    .dataframe tbody tr th {\n",
       "        vertical-align: top;\n",
       "    }\n",
       "\n",
       "    .dataframe thead th {\n",
       "        text-align: right;\n",
       "    }\n",
       "</style>\n",
       "<table border=\"1\" class=\"dataframe\">\n",
       "  <thead>\n",
       "    <tr style=\"text-align: right;\">\n",
       "      <th></th>\n",
       "      <th>Age</th>\n",
       "      <th>Salary</th>\n",
       "      <th>Gender</th>\n",
       "      <th>Country labelencode</th>\n",
       "      <th>Region labelencode</th>\n",
       "      <th>Country label_encode</th>\n",
       "      <th>Region label_encode</th>\n",
       "    </tr>\n",
       "  </thead>\n",
       "  <tbody>\n",
       "    <tr>\n",
       "      <th>0</th>\n",
       "      <td>-0.948439</td>\n",
       "      <td>0.011215</td>\n",
       "      <td>-0.543358</td>\n",
       "      <td>0.0</td>\n",
       "      <td>-0.894166</td>\n",
       "      <td>0.0</td>\n",
       "      <td>-0.894166</td>\n",
       "    </tr>\n",
       "    <tr>\n",
       "      <th>1</th>\n",
       "      <td>-0.060882</td>\n",
       "      <td>0.011215</td>\n",
       "      <td>-0.543358</td>\n",
       "      <td>0.0</td>\n",
       "      <td>0.749166</td>\n",
       "      <td>0.0</td>\n",
       "      <td>0.749166</td>\n",
       "    </tr>\n",
       "    <tr>\n",
       "      <th>2</th>\n",
       "      <td>0.382896</td>\n",
       "      <td>-1.243634</td>\n",
       "      <td>-0.543358</td>\n",
       "      <td>0.0</td>\n",
       "      <td>-1.304999</td>\n",
       "      <td>0.0</td>\n",
       "      <td>-1.304999</td>\n",
       "    </tr>\n",
       "    <tr>\n",
       "      <th>3</th>\n",
       "      <td>0.826675</td>\n",
       "      <td>-0.948491</td>\n",
       "      <td>-0.543358</td>\n",
       "      <td>0.0</td>\n",
       "      <td>-0.072500</td>\n",
       "      <td>0.0</td>\n",
       "      <td>-0.072500</td>\n",
       "    </tr>\n",
       "    <tr>\n",
       "      <th>4</th>\n",
       "      <td>-0.682172</td>\n",
       "      <td>-0.526857</td>\n",
       "      <td>-0.543358</td>\n",
       "      <td>0.0</td>\n",
       "      <td>0.749166</td>\n",
       "      <td>0.0</td>\n",
       "      <td>0.749166</td>\n",
       "    </tr>\n",
       "  </tbody>\n",
       "</table>\n",
       "</div>"
      ],
      "text/plain": [
       "        Age    Salary    Gender  Country labelencode  Region labelencode  \\\n",
       "0 -0.948439  0.011215 -0.543358                  0.0           -0.894166   \n",
       "1 -0.060882  0.011215 -0.543358                  0.0            0.749166   \n",
       "2  0.382896 -1.243634 -0.543358                  0.0           -1.304999   \n",
       "3  0.826675 -0.948491 -0.543358                  0.0           -0.072500   \n",
       "4 -0.682172 -0.526857 -0.543358                  0.0            0.749166   \n",
       "\n",
       "   Country label_encode  Region label_encode  \n",
       "0                   0.0            -0.894166  \n",
       "1                   0.0             0.749166  \n",
       "2                   0.0            -1.304999  \n",
       "3                   0.0            -0.072500  \n",
       "4                   0.0             0.749166  "
      ]
     },
     "execution_count": 121,
     "metadata": {},
     "output_type": "execute_result"
    }
   ],
   "source": [
    "standard_scaler = StandardScaler()\n",
    "df_data = df.drop(['Company Name','Region','Country'],axis=1)\n",
    "df_data.head()\n",
    "standard_scaler.fit(df_data)\n",
    "\n",
    "\n",
    "df_standard = standard_scaler.transform(df_data)\n",
    "df_standard_new = pd.DataFrame(df_standard,columns=df_data.columns)\n",
    "df_standard_new.head()"
   ]
  },
  {
   "cell_type": "markdown",
   "id": "89426220-647c-4353-a832-73f792672f01",
   "metadata": {},
   "source": [
    "#### MinMax Scaling"
   ]
  },
  {
   "cell_type": "code",
   "execution_count": 124,
   "id": "16dcbf3c-7fc3-43c2-a3e7-0177598dd2be",
   "metadata": {},
   "outputs": [
    {
     "data": {
      "text/html": [
       "<div>\n",
       "<style scoped>\n",
       "    .dataframe tbody tr th:only-of-type {\n",
       "        vertical-align: middle;\n",
       "    }\n",
       "\n",
       "    .dataframe tbody tr th {\n",
       "        vertical-align: top;\n",
       "    }\n",
       "\n",
       "    .dataframe thead th {\n",
       "        text-align: right;\n",
       "    }\n",
       "</style>\n",
       "<table border=\"1\" class=\"dataframe\">\n",
       "  <thead>\n",
       "    <tr style=\"text-align: right;\">\n",
       "      <th></th>\n",
       "      <th>Age</th>\n",
       "      <th>Salary</th>\n",
       "      <th>Gender</th>\n",
       "      <th>Country labelencode</th>\n",
       "      <th>Region labelencode</th>\n",
       "      <th>Country label_encode</th>\n",
       "      <th>Region label_encode</th>\n",
       "    </tr>\n",
       "  </thead>\n",
       "  <tbody>\n",
       "    <tr>\n",
       "      <th>0</th>\n",
       "      <td>0.370370</td>\n",
       "      <td>0.476518</td>\n",
       "      <td>0.0</td>\n",
       "      <td>0.0</td>\n",
       "      <td>0.2</td>\n",
       "      <td>0.0</td>\n",
       "      <td>0.2</td>\n",
       "    </tr>\n",
       "    <tr>\n",
       "      <th>1</th>\n",
       "      <td>0.555556</td>\n",
       "      <td>0.476518</td>\n",
       "      <td>0.0</td>\n",
       "      <td>0.0</td>\n",
       "      <td>0.6</td>\n",
       "      <td>0.0</td>\n",
       "      <td>0.6</td>\n",
       "    </tr>\n",
       "    <tr>\n",
       "      <th>2</th>\n",
       "      <td>0.648148</td>\n",
       "      <td>0.137817</td>\n",
       "      <td>0.0</td>\n",
       "      <td>0.0</td>\n",
       "      <td>0.1</td>\n",
       "      <td>0.0</td>\n",
       "      <td>0.1</td>\n",
       "    </tr>\n",
       "    <tr>\n",
       "      <th>3</th>\n",
       "      <td>0.740741</td>\n",
       "      <td>0.217480</td>\n",
       "      <td>0.0</td>\n",
       "      <td>0.0</td>\n",
       "      <td>0.4</td>\n",
       "      <td>0.0</td>\n",
       "      <td>0.4</td>\n",
       "    </tr>\n",
       "    <tr>\n",
       "      <th>4</th>\n",
       "      <td>0.425926</td>\n",
       "      <td>0.331285</td>\n",
       "      <td>0.0</td>\n",
       "      <td>0.0</td>\n",
       "      <td>0.6</td>\n",
       "      <td>0.0</td>\n",
       "      <td>0.6</td>\n",
       "    </tr>\n",
       "  </tbody>\n",
       "</table>\n",
       "</div>"
      ],
      "text/plain": [
       "        Age    Salary  Gender  Country labelencode  Region labelencode  \\\n",
       "0  0.370370  0.476518     0.0                  0.0                 0.2   \n",
       "1  0.555556  0.476518     0.0                  0.0                 0.6   \n",
       "2  0.648148  0.137817     0.0                  0.0                 0.1   \n",
       "3  0.740741  0.217480     0.0                  0.0                 0.4   \n",
       "4  0.425926  0.331285     0.0                  0.0                 0.6   \n",
       "\n",
       "   Country label_encode  Region label_encode  \n",
       "0                   0.0                  0.2  \n",
       "1                   0.0                  0.6  \n",
       "2                   0.0                  0.1  \n",
       "3                   0.0                  0.4  \n",
       "4                   0.0                  0.6  "
      ]
     },
     "execution_count": 124,
     "metadata": {},
     "output_type": "execute_result"
    }
   ],
   "source": [
    "minmax_scaler = MinMaxScaler()\n",
    "\n",
    "data_minmax = minmax_scaler.fit_transform(df_data)\n",
    "data_minmax_new = pd.DataFrame(data_minmax,columns=df_data.columns)\n",
    "data_minmax_new.head()"
   ]
  },
  {
   "cell_type": "code",
   "execution_count": null,
   "id": "41b29a57-6d62-484d-8928-0865a81e3c05",
   "metadata": {},
   "outputs": [],
   "source": []
  }
 ],
 "metadata": {
  "kernelspec": {
   "display_name": "Python 3 (ipykernel)",
   "language": "python",
   "name": "python3"
  },
  "language_info": {
   "codemirror_mode": {
    "name": "ipython",
    "version": 3
   },
   "file_extension": ".py",
   "mimetype": "text/x-python",
   "name": "python",
   "nbconvert_exporter": "python",
   "pygments_lexer": "ipython3",
   "version": "3.11.7"
  }
 },
 "nbformat": 4,
 "nbformat_minor": 5
}
